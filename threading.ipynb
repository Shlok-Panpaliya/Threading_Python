{
 "cells": [
  {
   "cell_type": "code",
   "execution_count": 1,
   "metadata": {},
   "outputs": [],
   "source": [
    "import logging\n",
    "import threading\n",
    "import time\n",
    "import concurrent.futures"
   ]
  },
  {
   "cell_type": "markdown",
   "metadata": {},
   "source": [
    "## Threading with one thread"
   ]
  },
  {
   "cell_type": "code",
   "execution_count": 2,
   "metadata": {},
   "outputs": [
    {
     "name": "stderr",
     "output_type": "stream",
     "text": [
      "18:09:10: Main    : before creating thread\n",
      "18:09:10: Main    : before running thread\n",
      "18:09:10: Thread 1: starting\n",
      "18:09:10: Main    : wait for the thread to finish\n",
      "18:09:13: Thread 1: finishing\n",
      "18:09:13: Main    : all done\n"
     ]
    }
   ],
   "source": [
    "def thread_function(name):\n",
    "    logging.info(\"Thread %s: starting\", name)\n",
    "    time.sleep(2)\n",
    "    logging.info(\"Thread %s: finishing\", name)\n",
    "\n",
    "if __name__ == \"__main__\":\n",
    "    format = \"%(asctime)s: %(message)s\"\n",
    "    logging.basicConfig(format=format, level=logging.INFO,\n",
    "                        datefmt=\"%H:%M:%S\")\n",
    "\n",
    "    logging.info(\"Main    : before creating thread\")\n",
    "    x = threading.Thread(target=thread_function, args=(1,),daemon = True)\n",
    "    logging.info(\"Main    : before running thread\")\n",
    "    x.start()\n",
    "    logging.info(\"Main    : wait for the thread to finish\")\n",
    "    x.join()\n",
    "    logging.info(\"Main    : all done\")"
   ]
  },
  {
   "cell_type": "markdown",
   "metadata": {},
   "source": [
    "## Threading with multiple thread(3)"
   ]
  },
  {
   "cell_type": "code",
   "execution_count": 3,
   "metadata": {},
   "outputs": [
    {
     "name": "stderr",
     "output_type": "stream",
     "text": [
      "18:09:13: Main    : create and start thread 0.\n",
      "18:09:13: Thread 0: starting\n",
      "18:09:13: Main    : create and start thread 1.\n",
      "18:09:13: Thread 1: starting\n",
      "18:09:13: Main    : create and start thread 2.\n",
      "18:09:13: Thread 2: starting\n",
      "18:09:13: Main    : before joining thread 0.\n",
      "18:09:15: Thread 0: finishing\n",
      "18:09:15: Main    : thread 0 done\n",
      "18:09:15: Thread 1: finishing\n",
      "18:09:15: Main    : before joining thread 1.\n",
      "18:09:15: Thread 2: finishing\n",
      "18:09:15: Main    : thread 1 done\n",
      "18:09:15: Main    : before joining thread 2.\n",
      "18:09:15: Main    : thread 2 done\n"
     ]
    }
   ],
   "source": [
    "import logging\n",
    "import threading\n",
    "import time\n",
    "\n",
    "def thread_function(name):\n",
    "    logging.info(\"Thread %s: starting\", name)\n",
    "    time.sleep(2)\n",
    "    logging.info(\"Thread %s: finishing\", name)\n",
    "\n",
    "if __name__ == \"__main__\":\n",
    "    format = \"%(asctime)s: %(message)s\"\n",
    "    logging.basicConfig(format=format, level=logging.INFO,\n",
    "                        datefmt=\"%H:%M:%S\")\n",
    "\n",
    "    threads = list()\n",
    "    for index in range(3):\n",
    "        logging.info(\"Main    : create and start thread %d.\", index)\n",
    "        x = threading.Thread(target=thread_function, args=(index,))\n",
    "        threads.append(x)\n",
    "        x.start()\n",
    "\n",
    "    for index, thread in enumerate(threads):\n",
    "        logging.info(\"Main    : before joining thread %d.\", index)\n",
    "        thread.join()\n",
    "        logging.info(\"Main    : thread %d done\", index)"
   ]
  },
  {
   "cell_type": "markdown",
   "metadata": {},
   "source": [
    "## Threading using ThreadPool "
   ]
  },
  {
   "cell_type": "code",
   "execution_count": 4,
   "metadata": {},
   "outputs": [
    {
     "name": "stderr",
     "output_type": "stream",
     "text": [
      "18:09:15: Testing update. Starting value is 0.\n",
      "18:09:15: Thread 0: starting update\n",
      "18:09:15: Thread 1: starting update\n",
      "18:09:15: Thread 0: finishing update\n",
      "18:09:15: Thread 1: finishing update\n",
      "18:09:15: Testing update. Ending value is 1.\n"
     ]
    }
   ],
   "source": [
    "class FakeDatabase:\n",
    "    def __init__(self):\n",
    "        self.value = 0\n",
    "\n",
    "    def update(self, name):\n",
    "        logging.info(\"Thread %s: starting update\", name)\n",
    "        local_copy = self.value\n",
    "        local_copy += 1\n",
    "        time.sleep(0.1)\n",
    "        self.value = local_copy\n",
    "        logging.info(\"Thread %s: finishing update\", name)\n",
    "if __name__ == \"__main__\":\n",
    "    format = \"%(asctime)s: %(message)s\"\n",
    "    logging.basicConfig(format=format, level=logging.INFO,\n",
    "                        datefmt=\"%H:%M:%S\")\n",
    "\n",
    "    database = FakeDatabase()\n",
    "    logging.info(\"Testing update. Starting value is %d.\", database.value)\n",
    "    with concurrent.futures.ThreadPoolExecutor(max_workers=2) as executor:\n",
    "        for index in range(2):\n",
    "            executor.submit(database.update, index)\n",
    "    logging.info(\"Testing update. Ending value is %d.\", database.value)"
   ]
  },
  {
   "cell_type": "markdown",
   "metadata": {},
   "source": [
    "## Threading using LOCK\n",
    "#### In this output you can see Thread 0 acquires the lock and is still holding it when it goes to sleep. Thread 1 then starts and attempts to acquire the same lock. Because Thread 0 is still holding it, Thread 1 has to wait. This is the mutual exclusion that a Lock provides."
   ]
  },
  {
   "cell_type": "code",
   "execution_count": 13,
   "metadata": {},
   "outputs": [
    {
     "name": "stderr",
     "output_type": "stream",
     "text": [
      "18:41:59: Testing update. Starting value is 0.\n",
      "18:41:59: Thread 0: starting update\n",
      "18:41:59: Thread 0 about to lock\n",
      "18:41:59: Thread 0 has lock\n",
      "18:41:59: Thread 1: starting update\n",
      "18:41:59: Thread 1 about to lock\n",
      "18:41:59: Thread 0 about to release lock\n",
      "18:41:59: Thread 0 after release\n",
      "18:41:59: Thread 1 has lock\n",
      "18:41:59: Thread 0: finishing update\n",
      "18:42:00: Thread 1 about to release lock\n",
      "18:42:00: Thread 1 after release\n",
      "18:42:00: Thread 1: finishing update\n",
      "18:42:00: Testing update. Ending value is 2.\n"
     ]
    }
   ],
   "source": [
    "class FakeDatabase:\n",
    "    def __init__(self):\n",
    "        self.value = 0\n",
    "        self._lock = threading.Lock()\n",
    "\n",
    "    def locked_update(self, name):\n",
    "        logging.info(\"Thread %s: starting update\", name)\n",
    "        logging.debug(\"Thread %s about to lock\", name)\n",
    "        with self._lock:\n",
    "            logging.debug(\"Thread %s has lock\", name)\n",
    "            local_copy = self.value\n",
    "            local_copy += 1\n",
    "            time.sleep(0.1)\n",
    "            self.value = local_copy\n",
    "            logging.debug(\"Thread %s about to release lock\", name)\n",
    "        logging.debug(\"Thread %s after release\", name)\n",
    "        logging.info(\"Thread %s: finishing update\", name)\n",
    "if __name__ == \"__main__\":\n",
    "    logging.getLogger().setLevel(logging.DEBUG)\n",
    "    format = \"%(asctime)s: %(message)s\"\n",
    "    logging.basicConfig(format=format, level=logging.INFO,\n",
    "                        datefmt=\"%H:%M:%S\")\n",
    "\n",
    "    database = FakeDatabase()\n",
    "    logging.info(\"Testing update. Starting value is %d.\", database.value)\n",
    "    with concurrent.futures.ThreadPoolExecutor(max_workers=2) as executor:\n",
    "        for index in range(2):\n",
    "            executor.submit(database.locked_update, index)\n",
    "    logging.info(\"Testing update. Ending value is %d.\", database.value)"
   ]
  },
  {
   "cell_type": "markdown",
   "metadata": {},
   "source": [
    "## Deadlock Example\n",
    "### When the program calls l.acquire() the second time, it hangs waiting for the Lock to be released. In this example, you can fix the deadlock by removing the second call\n",
    "\n",
    "### Output\n",
    "`\n",
    "before first acquire\n",
    "before second acquire\n",
    "`"
   ]
  },
  {
   "cell_type": "code",
   "execution_count": null,
   "metadata": {},
   "outputs": [],
   "source": [
    "import threading\n",
    "\n",
    "l = threading.Lock()\n",
    "print(\"before first acquire\")\n",
    "l.acquire()\n",
    "print(\"before second acquire\")\n",
    "l.acquire()\n",
    "print(\"acquired lock twice\")"
   ]
  },
  {
   "cell_type": "markdown",
   "metadata": {},
   "source": [
    "## Producer Consumer Problem using LOCK\n",
    "#### Not reliable as it allows only 1 message in the pipeline and can fail incase of burst of messages"
   ]
  },
  {
   "cell_type": "code",
   "execution_count": 15,
   "metadata": {},
   "outputs": [
    {
     "name": "stderr",
     "output_type": "stream",
     "text": [
      "18:46:33: Producer got message: 6\n",
      "18:46:33: Producer:about to acquire setlock\n",
      "18:46:33: Producer:have setlock\n",
      "18:46:33: Consumer:about to acquire getlock\n",
      "18:46:33: Producer:about to release getlock\n",
      "18:46:33: Producer:getlock released\n",
      "18:46:33: Producer got message: 37\n",
      "18:46:33: Consumer:have getlock\n",
      "18:46:33: Producer:about to acquire setlock\n",
      "18:46:33: Consumer:about to release setlock\n",
      "18:46:33: Consumer:setlock released\n",
      "18:46:33: Producer:have setlock\n",
      "18:46:33: Consumer storing message: 6\n",
      "18:46:33: Producer:about to release getlock\n",
      "18:46:33: Producer:getlock released\n",
      "18:46:33: Producer got message: 41\n",
      "18:46:33: Consumer:about to acquire getlock\n",
      "18:46:33: Producer:about to acquire setlock\n",
      "18:46:33: Consumer:have getlock\n",
      "18:46:33: Consumer:about to release setlock\n",
      "18:46:33: Consumer:setlock released\n",
      "18:46:33: Producer:have setlock\n",
      "18:46:33: Consumer storing message: 37\n",
      "18:46:33: Producer:about to release getlock\n",
      "18:46:33: Consumer:about to acquire getlock\n",
      "18:46:33: Producer:getlock released\n",
      "18:46:33: Producer got message: 64\n",
      "18:46:33: Consumer:have getlock\n",
      "18:46:33: Producer:about to acquire setlock\n",
      "18:46:33: Consumer:about to release setlock\n",
      "18:46:33: Consumer:setlock released\n",
      "18:46:33: Producer:have setlock\n",
      "18:46:33: Consumer storing message: 41\n",
      "18:46:33: Producer:about to release getlock\n",
      "18:46:33: Consumer:about to acquire getlock\n",
      "18:46:33: Producer:getlock released\n",
      "18:46:33: Consumer:have getlock\n",
      "18:46:33: Producer got message: 10\n",
      "18:46:33: Consumer:about to release setlock\n",
      "18:46:33: Producer:about to acquire setlock\n",
      "18:46:33: Consumer:setlock released\n",
      "18:46:33: Producer:have setlock\n",
      "18:46:33: Consumer storing message: 64\n",
      "18:46:33: Producer:about to release getlock\n",
      "18:46:33: Consumer:about to acquire getlock\n",
      "18:46:33: Producer:getlock released\n",
      "18:46:33: Consumer:have getlock\n",
      "18:46:33: Producer got message: 93\n",
      "18:46:33: Consumer:about to release setlock\n",
      "18:46:33: Producer:about to acquire setlock\n",
      "18:46:33: Consumer:setlock released\n",
      "18:46:33: Producer:have setlock\n",
      "18:46:33: Consumer storing message: 10\n",
      "18:46:33: Producer:about to release getlock\n",
      "18:46:33: Consumer:about to acquire getlock\n",
      "18:46:33: Producer:getlock released\n",
      "18:46:33: Consumer:have getlock\n",
      "18:46:33: Producer got message: 9\n",
      "18:46:33: Consumer:about to release setlock\n",
      "18:46:33: Producer:about to acquire setlock\n",
      "18:46:33: Consumer:setlock released\n",
      "18:46:33: Producer:have setlock\n",
      "18:46:33: Consumer storing message: 93\n",
      "18:46:33: Producer:about to release getlock\n",
      "18:46:33: Consumer:about to acquire getlock\n",
      "18:46:33: Producer:getlock released\n",
      "18:46:33: Consumer:have getlock\n",
      "18:46:33: Producer got message: 35\n",
      "18:46:33: Consumer:about to release setlock\n",
      "18:46:33: Producer:about to acquire setlock\n",
      "18:46:33: Consumer:setlock released\n",
      "18:46:33: Producer:have setlock\n",
      "18:46:33: Consumer storing message: 9\n",
      "18:46:33: Producer:about to release getlock\n",
      "18:46:33: Consumer:about to acquire getlock\n",
      "18:46:33: Producer:getlock released\n",
      "18:46:33: Consumer:have getlock\n",
      "18:46:33: Producer got message: 43\n",
      "18:46:33: Consumer:about to release setlock\n",
      "18:46:33: Producer:about to acquire setlock\n",
      "18:46:33: Consumer:setlock released\n",
      "18:46:33: Producer:have setlock\n",
      "18:46:33: Consumer storing message: 35\n",
      "18:46:33: Producer:about to release getlock\n",
      "18:46:33: Consumer:about to acquire getlock\n",
      "18:46:33: Producer:getlock released\n",
      "18:46:33: Consumer:have getlock\n",
      "18:46:33: Producer got message: 31\n",
      "18:46:33: Consumer:about to release setlock\n",
      "18:46:33: Producer:about to acquire setlock\n",
      "18:46:33: Consumer:setlock released\n",
      "18:46:33: Producer:have setlock\n",
      "18:46:33: Consumer storing message: 43\n",
      "18:46:33: Producer:about to release getlock\n",
      "18:46:33: Consumer:about to acquire getlock\n",
      "18:46:33: Producer:getlock released\n",
      "18:46:33: Consumer:have getlock\n",
      "18:46:33: Producer:about to acquire setlock\n",
      "18:46:33: Consumer:about to release setlock\n",
      "18:46:33: Consumer:setlock released\n",
      "18:46:33: Producer:have setlock\n",
      "18:46:33: Consumer storing message: 31\n",
      "18:46:33: Producer:about to release getlock\n",
      "18:46:33: Consumer:about to acquire getlock\n",
      "18:46:33: Producer:getlock released\n",
      "18:46:33: Consumer:have getlock\n",
      "18:46:33: Consumer:about to release setlock\n",
      "18:46:33: Consumer:setlock released\n"
     ]
    }
   ],
   "source": [
    "import random \n",
    "\n",
    "SENTINEL = object()\n",
    "\n",
    "def producer(pipeline):\n",
    "    \"\"\"Pretend we're getting a message from the network.\"\"\"\n",
    "    for index in range(10):\n",
    "        message = random.randint(1, 101)\n",
    "        logging.info(\"Producer got message: %s\", message)\n",
    "        pipeline.set_message(message, \"Producer\")\n",
    "\n",
    "    # Send a sentinel message to tell consumer we're done\n",
    "    pipeline.set_message(SENTINEL, \"Producer\")\n",
    "def consumer(pipeline):\n",
    "    \"\"\"Pretend we're saving a number in the database.\"\"\"\n",
    "    message = 0\n",
    "    while message is not SENTINEL:\n",
    "        message = pipeline.get_message(\"Consumer\")\n",
    "        if message is not SENTINEL:\n",
    "            logging.info(\"Consumer storing message: %s\", message)\n",
    "class Pipeline:\n",
    "    \"\"\"\n",
    "    Class to allow a single element pipeline between producer and consumer.\n",
    "    \"\"\"\n",
    "    def __init__(self):\n",
    "        self.message = 0\n",
    "        self.producer_lock = threading.Lock()\n",
    "        self.consumer_lock = threading.Lock()\n",
    "        self.consumer_lock.acquire()\n",
    "\n",
    "    def get_message(self, name):\n",
    "        logging.debug(\"%s:about to acquire getlock\", name)\n",
    "        self.consumer_lock.acquire()\n",
    "        logging.debug(\"%s:have getlock\", name)\n",
    "        message = self.message\n",
    "        logging.debug(\"%s:about to release setlock\", name)\n",
    "        self.producer_lock.release()\n",
    "        logging.debug(\"%s:setlock released\", name)\n",
    "        return message\n",
    "\n",
    "    def set_message(self, message, name):\n",
    "        logging.debug(\"%s:about to acquire setlock\", name)\n",
    "        self.producer_lock.acquire()\n",
    "        logging.debug(\"%s:have setlock\", name)\n",
    "        self.message = message\n",
    "        logging.debug(\"%s:about to release getlock\", name)\n",
    "        self.consumer_lock.release()\n",
    "        logging.debug(\"%s:getlock released\", name)\n",
    "if __name__ == \"__main__\":\n",
    "    format = \"%(asctime)s: %(message)s\"\n",
    "    logging.basicConfig(format=format, level=logging.INFO,\n",
    "                        datefmt=\"%H:%M:%S\")\n",
    "    logging.getLogger().setLevel(logging.DEBUG)\n",
    "\n",
    "    pipeline = Pipeline()\n",
    "    with concurrent.futures.ThreadPoolExecutor(max_workers=2) as executor:\n",
    "        executor.submit(producer, pipeline)\n",
    "        executor.submit(consumer, pipeline)"
   ]
  },
  {
   "cell_type": "markdown",
   "metadata": {},
   "source": [
    "## Producer Consumer Problem using Queue"
   ]
  },
  {
   "cell_type": "code",
   "execution_count": null,
   "metadata": {},
   "outputs": [],
   "source": []
  }
 ],
 "metadata": {
  "kernelspec": {
   "display_name": "Python 3",
   "language": "python",
   "name": "python3"
  },
  "language_info": {
   "codemirror_mode": {
    "name": "ipython",
    "version": 3
   },
   "file_extension": ".py",
   "mimetype": "text/x-python",
   "name": "python",
   "nbconvert_exporter": "python",
   "pygments_lexer": "ipython3",
   "version": "3.7.6"
  }
 },
 "nbformat": 4,
 "nbformat_minor": 4
}
